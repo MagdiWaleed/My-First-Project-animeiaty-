{
  "nbformat": 4,
  "nbformat_minor": 0,
  "metadata": {
    "colab": {
      "provenance": [],
      "authorship_tag": "ABX9TyM23J6R7LozllMFW8cIGhCt",
      "include_colab_link": true
    },
    "kernelspec": {
      "name": "python3",
      "display_name": "Python 3"
    },
    "language_info": {
      "name": "python"
    }
  },
  "cells": [
    {
      "cell_type": "markdown",
      "metadata": {
        "id": "view-in-github",
        "colab_type": "text"
      },
      "source": [
        "<a href=\"https://colab.research.google.com/github/MagdiWaleed/animeiaty/blob/master/Untitled2.ipynb\" target=\"_parent\"><img src=\"https://colab.research.google.com/assets/colab-badge.svg\" alt=\"Open In Colab\"/></a>"
      ]
    },
    {
      "cell_type": "code",
      "execution_count": 1,
      "metadata": {
        "id": "R_PIbPCO6sYk"
      },
      "outputs": [],
      "source": [
        "import spacy\n",
        "nlp = spacy.load(\"en_core_web_sm\")\n",
        "s=\"He told Dr. Lovato that he was done with the tests and would post the results shortly.\"\n",
        "doc = nlp(s)"
      ]
    },
    {
      "cell_type": "code",
      "source": [
        "print([t.lower_ for t in doc])"
      ],
      "metadata": {
        "colab": {
          "base_uri": "https://localhost:8080/"
        },
        "id": "5Y5fqqRT6-FE",
        "outputId": "28218151-ceaa-40f1-ecad-32a42a8ed643"
      },
      "execution_count": 2,
      "outputs": [
        {
          "output_type": "stream",
          "name": "stdout",
          "text": [
            "['he', 'told', 'dr.', 'lovato', 'that', 'he', 'was', 'done', 'with', 'the', 'tests', 'and', 'would', 'post', 'the', 'results', 'shortly', '.']\n"
          ]
        }
      ]
    },
    {
      "cell_type": "code",
      "source": [
        "print([t.lower_ if not t.is_sent_start else t for t in doc])"
      ],
      "metadata": {
        "colab": {
          "base_uri": "https://localhost:8080/"
        },
        "id": "1oAoriJk7Emy",
        "outputId": "51295b83-f055-45eb-8f58-73fb00d8fce3"
      },
      "execution_count": 3,
      "outputs": [
        {
          "output_type": "stream",
          "name": "stdout",
          "text": [
            "[He, 'told', 'dr.', 'lovato', 'that', 'he', 'was', 'done', 'with', 'the', 'tests', 'and', 'would', 'post', 'the', 'results', 'shortly', '.']\n"
          ]
        }
      ]
    },
    {
      "cell_type": "code",
      "source": [
        "print(nlp.Defaults.stop_words)\n",
        "print(len(nlp.Defaults.stop_words))"
      ],
      "metadata": {
        "colab": {
          "base_uri": "https://localhost:8080/"
        },
        "id": "Q-0b-c2m7SV6",
        "outputId": "0ca8109a-79cd-4bba-ac9c-7b009eafdfac"
      },
      "execution_count": 5,
      "outputs": [
        {
          "output_type": "stream",
          "name": "stdout",
          "text": [
            "{'each', 'call', 'make', 'her', 'ca', '‘re', 'very', 'an', 'until', 'thereupon', 'give', 'have', 'do', 'toward', 'myself', 'my', 'further', 'too', 'cannot', 'the', 'are', 'mine', 'already', 'she', 'get', 'we', 'put', 'although', 'show', 'three', 'he', 'often', 'amount', 'off', 'part', 'to', 'whether', 'did', 'everything', 'after', 'somewhere', 'fifty', 'some', 'may', '’d', 'everywhere', 'about', 'under', 'every', 'one', 'does', 'front', 'herself', 'could', 'their', 'afterwards', 'becomes', 'can', 'yourself', 'else', 'by', 'for', 'so', '‘m', 'just', 'nothing', 'where', 'am', 'sixty', 'hers', 'various', 'namely', 'on', 'whither', 'whole', 'while', 'sometimes', 'being', 'rather', 'becoming', 'therein', 'throughout', 'be', 'then', 'no', 'as', 'go', 'during', 'except', 'serious', 'really', 'anyhow', 'but', 'keep', 'meanwhile', 'yourselves', 'bottom', 'third', 'eleven', 'others', 'used', 'became', 'please', 'side', 'see', 'six', 'thence', 'out', 'seem', 'nowhere', 'beyond', \"n't\", 'there', 'seemed', 'together', 'along', 'whence', 'whenever', 'nine', '’re', 'still', 'using', 'up', 'his', 'however', 'them', 'back', 'indeed', 'would', 'anything', 'well', 'whoever', 'moreover', 'beside', 'ourselves', 'wherein', 'mostly', 'eight', 'such', 'anywhere', 'you', 'own', 'against', 'across', 'regarding', 'through', \"'d\", 'latterly', 'former', 'among', 'less', 'due', 'in', 'name', 'upon', 'which', '‘ll', 'because', 'if', 'hundred', 're', 'almost', 'above', 'had', 'onto', 'amongst', 'many', 'than', 'unless', 'none', 'when', 'somehow', 'any', 'more', 'and', 'were', 'its', 'per', 'what', 'should', 'always', 'now', 'first', 'forty', 'once', 'noone', 'ours', 'of', 'or', 'behind', 'few', 'since', '’ll', 'ten', 'will', 'with', 'whatever', 'same', 'your', '’m', 'itself', 'might', 'twelve', 'hereby', 'yet', 'herein', 'from', 'become', 'thus', \"'ve\", 'seeming', 'top', 'towards', 'formerly', 'all', 'between', 'into', 'whereafter', 'seems', 'five', 'whose', 'again', 'nevertheless', 'made', 'via', 'not', 'move', 'besides', 'therefore', 'why', 'anyway', 'both', 'full', 'someone', 'fifteen', 'himself', 'say', 'n‘t', 'most', 'whom', '’s', '’ve', 'hereafter', 'whereas', 'around', \"'m\", 'much', 'wherever', 'something', 'everyone', 'thereby', 'doing', 'those', 'thereafter', 'several', \"'ll\", 'whereby', 'him', 'two', 'sometime', 'themselves', 'was', 'they', 'four', 'a', 'whereupon', 'done', 'also', 'nobody', 'at', 'otherwise', 'must', 'here', 'who', 'that', 'yours', 'even', 'down', 'has', 'thru', 'i', \"'re\", 'though', 'perhaps', 'quite', 'least', \"'s\", 'our', 'enough', 'before', 'anyone', 'these', 'latter', 'elsewhere', 'without', 'nor', 'hereupon', 'ever', 'hence', 'beforehand', 'below', 'us', 'next', 'twenty', 'never', '‘d', 'it', 'only', 'other', 'is', 'take', 'either', 'n’t', 'how', 'been', 'over', 'this', 'another', '‘s', 'last', 'within', 'me', 'neither', '‘ve', 'empty', 'alone'}\n",
            "326\n"
          ]
        }
      ]
    },
    {
      "cell_type": "code",
      "source": [
        "print([t for t in doc if not t.is_stop])"
      ],
      "metadata": {
        "colab": {
          "base_uri": "https://localhost:8080/"
        },
        "id": "HfP1Tl-97Z_w",
        "outputId": "6c86f46f-40c7-476c-84b5-78da67b1d884"
      },
      "execution_count": 6,
      "outputs": [
        {
          "output_type": "stream",
          "name": "stdout",
          "text": [
            "[told, Dr., Lovato, tests, post, results, shortly, .]\n"
          ]
        }
      ]
    },
    {
      "cell_type": "code",
      "source": [
        "print ([(t.text ,t.lemma_) for t in doc])"
      ],
      "metadata": {
        "colab": {
          "base_uri": "https://localhost:8080/"
        },
        "id": "PzyCVw_y7u73",
        "outputId": "69900db9-95b9-4d08-8dfc-63fe76f2c6f7"
      },
      "execution_count": 7,
      "outputs": [
        {
          "output_type": "stream",
          "name": "stdout",
          "text": [
            "[('He', 'he'), ('told', 'tell'), ('Dr.', 'Dr.'), ('Lovato', 'Lovato'), ('that', 'that'), ('he', 'he'), ('was', 'be'), ('done', 'do'), ('with', 'with'), ('the', 'the'), ('tests', 'test'), ('and', 'and'), ('would', 'would'), ('post', 'post'), ('the', 'the'), ('results', 'result'), ('shortly', 'shortly'), ('.', '.')]\n"
          ]
        }
      ]
    },
    {
      "cell_type": "code",
      "source": [],
      "metadata": {
        "id": "3Cq03oNZ77J3"
      },
      "execution_count": null,
      "outputs": []
    }
  ]
}